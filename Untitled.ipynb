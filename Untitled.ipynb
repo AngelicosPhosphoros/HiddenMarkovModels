{
 "cells": [
  {
   "cell_type": "markdown",
   "metadata": {},
   "source": [
    "# Homework Program HMM Timur Khuzin"
   ]
  },
  {
   "cell_type": "markdown",
   "metadata": {},
   "source": [
    "### Function that read parameters."
   ]
  },
  {
   "cell_type": "markdown",
   "metadata": {},
   "source": [
    "First line of file: M,K,L tab separated<br>\n",
    "Than M lines of M numbers (MxM transition matrix)<br>\n",
    "Than M lines of K numbers (MxK emisstion matrix)<br>\n",
    "Each row of emission matrix is probabilities of K emissions.<br>\n",
    "Than M numbers in line (Vector of M — initial distribution)<br>"
   ]
  },
  {
   "cell_type": "code",
   "execution_count": 41,
   "metadata": {},
   "outputs": [],
   "source": [
    "import numpy as np\n",
    "\n",
    "class HMM_Params:\n",
    "    def __init__(self, state_num, emission_num, to_observe):\n",
    "        self.state_num = state_num\n",
    "        self.emission_num = emission_num\n",
    "        self.observation_length = to_observe\n",
    "        self.transition_matrix = np.zeros((state_num, state_num), dtype='float64')\n",
    "        self.emission_matrix = np.zeros((state_num, emission_num), dtype='float64')\n",
    "        self.beginning_distribution = np.zeros((state_num), dtype='float64')\n",
    "\n",
    "def read_params(filename):\n",
    "    with open(filename, 'r') as f:\n",
    "        M, K, L = map(int, f.readline().strip().split())\n",
    "        params = HMM_Params(M, K, L)\n",
    "        \n",
    "        for i in range(M):\n",
    "            params.transition_matrix[i,:] = [float(x) for x in f.readline().strip().split()]\n",
    "            \n",
    "        for i in range(M):\n",
    "            params.emission_matrix[i,:] = [float(x) for x in f.readline().strip().split()]\n",
    "        \n",
    "        params.beginning_distribution[:] = np.array([float(x) for x in f.readline().strip().split()])\n",
    "        \n",
    "        return params"
   ]
  },
  {
   "cell_type": "markdown",
   "metadata": {},
   "source": [
    "### HMM generator"
   ]
  },
  {
   "cell_type": "code",
   "execution_count": 49,
   "metadata": {},
   "outputs": [],
   "source": [
    "from numpy.random import choice as npchoice\n",
    "\n",
    "# params is HMM_Params\n",
    "# returns sequence of tuples: (pi, x)\n",
    "def generate_random_HMM(params):\n",
    "    current_pos = npchoice(params.state_num,1, p=params.beginning_distribution)[0]\n",
    "    current_emission = npchoice(params.emission_num, 1, p=params.emission_matrix[current_pos,:])[0]\n",
    "    result = []\n",
    "    while len(result)<params.observation_length:\n",
    "        result.append((current_pos, current_emission))\n",
    "        current_pos = npchoice(params.state_num, 1, p=params.transition_matrix[current_pos,:])[0]\n",
    "        current_emission = npchoice(params.emission_num, 1, p=params.emission_matrix[current_pos,:])[0]\n",
    "    return result\n",
    "\n",
    "def beautify_HMM_sequence(hmm_seq):\n",
    "    def beautify_pair(p):\n",
    "        return 'p%d'%p[0], 'e%d'%p[1]\n",
    "    return [beautify_pair(x) for x in hmm_seq]\n",
    "\n",
    "def print_HMM_to_file(hmm, filename):\n",
    "    hmm = beautify_HMM_sequence(hmm)\n",
    "    with open(filename, 'w') as f:\n",
    "        f.write('\\n'.join(map(lambda p:'%s\\t%s'%p, hmm)))"
   ]
  },
  {
   "cell_type": "code",
   "execution_count": 51,
   "metadata": {},
   "outputs": [
    {
     "data": {
      "text/plain": [
       "[('p1', 'e1'),\n",
       " ('p1', 'e0'),\n",
       " ('p0', 'e0'),\n",
       " ('p0', 'e0'),\n",
       " ('p0', 'e0'),\n",
       " ('p0', 'e1'),\n",
       " ('p0', 'e0'),\n",
       " ('p1', 'e1'),\n",
       " ('p1', 'e0'),\n",
       " ('p1', 'e0'),\n",
       " ('p1', 'e1'),\n",
       " ('p1', 'e0'),\n",
       " ('p1', 'e0'),\n",
       " ('p1', 'e1'),\n",
       " ('p1', 'e1'),\n",
       " ('p1', 'e0'),\n",
       " ('p1', 'e1'),\n",
       " ('p0', 'e0'),\n",
       " ('p1', 'e0'),\n",
       " ('p0', 'e0'),\n",
       " ('p0', 'e0'),\n",
       " ('p1', 'e1'),\n",
       " ('p1', 'e0'),\n",
       " ('p1', 'e1'),\n",
       " ('p0', 'e0'),\n",
       " ('p0', 'e0'),\n",
       " ('p0', 'e1'),\n",
       " ('p0', 'e0'),\n",
       " ('p0', 'e0'),\n",
       " ('p1', 'e1'),\n",
       " ('p0', 'e0'),\n",
       " ('p0', 'e0'),\n",
       " ('p1', 'e1'),\n",
       " ('p0', 'e0'),\n",
       " ('p0', 'e1'),\n",
       " ('p0', 'e1'),\n",
       " ('p1', 'e1'),\n",
       " ('p0', 'e1'),\n",
       " ('p0', 'e0'),\n",
       " ('p0', 'e0'),\n",
       " ('p0', 'e0'),\n",
       " ('p1', 'e1'),\n",
       " ('p1', 'e1'),\n",
       " ('p1', 'e1'),\n",
       " ('p1', 'e1'),\n",
       " ('p1', 'e1'),\n",
       " ('p1', 'e1'),\n",
       " ('p1', 'e0'),\n",
       " ('p1', 'e1'),\n",
       " ('p1', 'e1')]"
      ]
     },
     "execution_count": 51,
     "metadata": {},
     "output_type": "execute_result"
    }
   ],
   "source": [
    "params = read_params('test.txt')\n",
    "hmm = generate_random_HMM(params)\n",
    "print_HMM_to_file(hmm, 'generated_path.txt')\n",
    "beautify_HMM_sequence(hmm)"
   ]
  },
  {
   "cell_type": "code",
   "execution_count": null,
   "metadata": {},
   "outputs": [],
   "source": []
  },
  {
   "cell_type": "code",
   "execution_count": null,
   "metadata": {},
   "outputs": [],
   "source": []
  },
  {
   "cell_type": "code",
   "execution_count": null,
   "metadata": {},
   "outputs": [],
   "source": []
  }
 ],
 "metadata": {
  "kernelspec": {
   "display_name": "Python 3",
   "language": "python",
   "name": "python3"
  },
  "language_info": {
   "codemirror_mode": {
    "name": "ipython",
    "version": 3
   },
   "file_extension": ".py",
   "mimetype": "text/x-python",
   "name": "python",
   "nbconvert_exporter": "python",
   "pygments_lexer": "ipython3",
   "version": "3.6.5"
  }
 },
 "nbformat": 4,
 "nbformat_minor": 2
}
