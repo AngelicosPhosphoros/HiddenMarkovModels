{
 "cells": [
  {
   "cell_type": "markdown",
   "metadata": {},
   "source": [
    "# Homework Program HMM Timur Khuzin"
   ]
  },
  {
   "cell_type": "markdown",
   "metadata": {},
   "source": [
    "### Function that read parameters."
   ]
  },
  {
   "cell_type": "markdown",
   "metadata": {},
   "source": [
    "First line of file: M,K,L tab separated<br>\n",
    "Than M lines of M numbers (MxM transition matrix)<br>\n",
    "Row index is old state, column index is next state<br>\n",
    "Than M lines of K numbers (MxK emisstion matrix)<br>\n",
    "Each row of emission matrix is probabilities of K emissions.<br>\n",
    "Than M numbers in line (Vector of M — initial distribution)<br>"
   ]
  },
  {
   "cell_type": "code",
   "execution_count": 56,
   "metadata": {},
   "outputs": [],
   "source": [
    "import numpy as np\n",
    "\n",
    "class HMM_Params:\n",
    "    def __init__(self, state_num, emission_num, to_observe):\n",
    "        self.state_num = state_num\n",
    "        self.emission_num = emission_num\n",
    "        self.observation_length = to_observe\n",
    "        self.transition_matrix = np.zeros((state_num, state_num), dtype='float64')\n",
    "        self.emission_matrix = np.zeros((state_num, emission_num), dtype='float64')\n",
    "        self.beginning_distribution = np.zeros((state_num), dtype='float64')\n",
    "\n",
    "def read_params(filename):\n",
    "    with open(filename, 'r') as f:\n",
    "        M, K, L = map(int, f.readline().strip().split())\n",
    "        params = HMM_Params(M, K, L)\n",
    "        \n",
    "        for i in range(M):\n",
    "            params.transition_matrix[i,:] = [float(x) for x in f.readline().strip().split()]\n",
    "            \n",
    "        for i in range(M):\n",
    "            params.emission_matrix[i,:] = [float(x) for x in f.readline().strip().split()]\n",
    "        \n",
    "        params.beginning_distribution[:] = np.array([float(x) for x in f.readline().strip().split()])\n",
    "        \n",
    "        return params"
   ]
  },
  {
   "cell_type": "markdown",
   "metadata": {},
   "source": [
    "### HMM generator"
   ]
  },
  {
   "cell_type": "code",
   "execution_count": 57,
   "metadata": {},
   "outputs": [],
   "source": [
    "from numpy.random import choice as npchoice\n",
    "\n",
    "# params is HMM_Params\n",
    "# returns sequence of tuples: (pi, x)\n",
    "def generate_random_HMM(params):\n",
    "    current_pos = npchoice(params.state_num,1, p=params.beginning_distribution)[0]\n",
    "    current_emission = npchoice(params.emission_num, 1, p=params.emission_matrix[current_pos,:])[0]\n",
    "    result = []\n",
    "    while len(result)<params.observation_length:\n",
    "        result.append((current_pos, current_emission))\n",
    "        current_pos = npchoice(params.state_num, 1, p=params.transition_matrix[current_pos,:])[0]\n",
    "        current_emission = npchoice(params.emission_num, 1, p=params.emission_matrix[current_pos,:])[0]\n",
    "    return result\n",
    "\n",
    "def beautify_HMM_sequence(hmm_seq):\n",
    "    def beautify_pair(p):\n",
    "        return 'p%d'%p[0], 'e%d'%p[1]\n",
    "    return [beautify_pair(x) for x in hmm_seq]\n",
    "\n",
    "def print_HMM_to_file(hmm, filename):\n",
    "    hmm = beautify_HMM_sequence(hmm)\n",
    "    with open(filename, 'w') as f:\n",
    "        f.write('\\n'.join(map(lambda p:'%s\\t%s'%p, hmm)))"
   ]
  },
  {
   "cell_type": "code",
   "execution_count": 58,
   "metadata": {},
   "outputs": [],
   "source": [
    "params = read_params('test.txt')\n",
    "hmm = generate_random_HMM(params)\n",
    "print_HMM_to_file(hmm, 'generated_path.txt')\n",
    "#beautify_HMM_sequence(hmm)"
   ]
  },
  {
   "cell_type": "code",
   "execution_count": 65,
   "metadata": {},
   "outputs": [],
   "source": [
    "# input is HMM_Params and observation list (with ints inside)\n",
    "# output is hidden states in integer list\n",
    "def viterbi_solver(params, observations):\n",
    "    # matrix LxM where stored previous states for each state in row\n",
    "    parents = np.zeros((params.observation_length, params.state_num), dtype='float64')\n",
    "    # current probabilities\n",
    "    current_iter = params.beginning_distribution * params.emission_matrix[:,observations[0]]\n",
    "    # probabilities of next step\n",
    "    next_generation = np.zeros(params.state_num,dtype='float64')\n",
    "    for i in range(1, params.observation_length):\n",
    "        for state in range(params.state_num):\n",
    "            probs = current_iter * params.transition_matrix[:,state]\n",
    "            prev = probs.argmax()\n",
    "            next_generation[state] = probs[prev] * params.emission_matrix[state, observations[i]]\n",
    "            parents[i,state] = prev\n",
    "        # avoid garbage collection\n",
    "        current_iter, next_generation = next_generation, current_iter\n",
    "    \n",
    "    path = np.ones(params.observation_length, dtype='int64')\n",
    "    path[-1] = current_iter.argmax()\n",
    "    for i in range(params.observation_length - 2, -1, -1):\n",
    "        p = parents[i+1, path[i+1]]\n",
    "        path[i] = p\n",
    "    return path"
   ]
  },
  {
   "cell_type": "code",
   "execution_count": 76,
   "metadata": {},
   "outputs": [
    {
     "name": "stdout",
     "output_type": "stream",
     "text": [
      "Accuracy: 0.780000\n"
     ]
    }
   ],
   "source": [
    "# checking viterbi\n",
    "params = read_params('test.txt')\n",
    "data = [x.strip() for x in open('generated_path.txt', 'r')]\n",
    "observations = [int(x.split()[1][1:]) for x in data]\n",
    "actual_states = [int(x.split()[0][1:]) for x in data]\n",
    "most_probable = viterbi_solver(params, observations)\n",
    "with open('viterbi.txt', 'w') as f:\n",
    "    f.write(\"RPath\\tObserv\\tViterbi\\n\")\n",
    "    p = map(lambda x: '%s\\tp%d'%x, zip(data, most_probable))\n",
    "    p = list(p)\n",
    "    f.write('\\n'.join(p))\n",
    "same_indices = [i for i in range(len(data)) if actual_states[i]==most_probable[i]]\n",
    "print(\"Accuracy: %f\"%(len(same_indices)/len(data)))"
   ]
  },
  {
   "cell_type": "code",
   "execution_count": null,
   "metadata": {},
   "outputs": [],
   "source": []
  }
 ],
 "metadata": {
  "kernelspec": {
   "display_name": "Python 3",
   "language": "python",
   "name": "python3"
  },
  "language_info": {
   "codemirror_mode": {
    "name": "ipython",
    "version": 3
   },
   "file_extension": ".py",
   "mimetype": "text/x-python",
   "name": "python",
   "nbconvert_exporter": "python",
   "pygments_lexer": "ipython3",
   "version": "3.6.5"
  }
 },
 "nbformat": 4,
 "nbformat_minor": 2
}
