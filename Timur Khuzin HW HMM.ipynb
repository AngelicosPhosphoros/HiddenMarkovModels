{
 "cells": [
  {
   "cell_type": "markdown",
   "metadata": {},
   "source": [
    "# Homework Program HMM Timur Khuzin"
   ]
  },
  {
   "cell_type": "markdown",
   "metadata": {},
   "source": [
    "### Function that read parameters."
   ]
  },
  {
   "cell_type": "markdown",
   "metadata": {},
   "source": [
    "All lines started with `#` are ignored\n",
    "\n",
    "First line of file: M,K,L tab separated<br>\n",
    "Than M lines of M numbers (MxM transition matrix)<br>\n",
    "Row index is old state, column index is next state<br>\n",
    "Than M lines of K numbers (MxK emisstion matrix)<br>\n",
    "Each row of emission matrix is probabilities of K emissions.<br>\n",
    "Than M numbers in line (Vector of M — initial distribution)<br>"
   ]
  },
  {
   "cell_type": "code",
   "execution_count": 284,
   "metadata": {},
   "outputs": [],
   "source": [
    "import numpy as np\n",
    "\n",
    "class HMM_Params:\n",
    "    def __init__(self, state_num, emission_num, to_observe):\n",
    "        self.state_num = state_num\n",
    "        self.emission_num = emission_num\n",
    "        self.observation_length = to_observe\n",
    "        self.transition_matrix = np.zeros((state_num, state_num), dtype='float64')\n",
    "        self.emission_matrix = np.zeros((state_num, emission_num), dtype='float64')\n",
    "        self.beginning_distribution = np.zeros((state_num), dtype='float64')\n",
    "\n",
    "def read_params(filename):\n",
    "    def read_non_comment(f):\n",
    "        s = f.readline()\n",
    "        while(s[0]=='#'):\n",
    "            s = f.readline()\n",
    "        return s\n",
    "    with open(filename, 'r') as f:\n",
    "        M, K, L = map(int, read_non_comment(f).strip().split())\n",
    "        params = HMM_Params(M, K, L)\n",
    "        \n",
    "        for i in range(M):\n",
    "            params.transition_matrix[i,:] =  [float(x) for x in read_non_comment(f).strip().split()]\n",
    "            params.transition_matrix[i,:] /= np.sum(params.transition_matrix[i,:])\n",
    "            \n",
    "        for i in range(M):\n",
    "            params.emission_matrix[i,:] = [float(x) for x in read_non_comment(f).strip().split()]\n",
    "            params.emission_matrix[i,:]/= np.sum(params.emission_matrix[i,:])\n",
    "        \n",
    "        params.beginning_distribution[:] = np.array([float(x) for x in read_non_comment(f).strip().split()])\n",
    "        params.beginning_distribution[:] /= np.sum(params.beginning_distribution[:])\n",
    "        \n",
    "        return params"
   ]
  },
  {
   "cell_type": "markdown",
   "metadata": {},
   "source": [
    "### HMM generator"
   ]
  },
  {
   "cell_type": "code",
   "execution_count": 285,
   "metadata": {},
   "outputs": [],
   "source": [
    "from numpy.random import choice as npchoice\n",
    "\n",
    "# params is HMM_Params\n",
    "# returns sequence of tuples: (pi, x)\n",
    "def generate_random_HMM(params):\n",
    "    current_pos = npchoice(params.state_num,1, p=params.beginning_distribution)[0]\n",
    "    current_emission = npchoice(params.emission_num, 1, p=params.emission_matrix[current_pos,:])[0]\n",
    "    result = []\n",
    "    while len(result)<params.observation_length:\n",
    "        result.append((current_pos, current_emission))\n",
    "        current_pos = npchoice(params.state_num, 1, p=params.transition_matrix[current_pos,:])[0]\n",
    "        current_emission = npchoice(params.emission_num, 1, p=params.emission_matrix[current_pos,:])[0]\n",
    "    return result\n",
    "\n",
    "def beautify_HMM_sequence(hmm_seq):\n",
    "    def beautify_pair(p):\n",
    "        return 'p%d'%p[0], 'e%d'%p[1]\n",
    "    return [beautify_pair(x) for x in hmm_seq]\n",
    "\n",
    "def print_HMM_to_file(hmm, filename):\n",
    "    hmm = beautify_HMM_sequence(hmm)\n",
    "    with open(filename, 'w') as f:\n",
    "        f.write('\\n'.join(map(lambda p:'%s\\t%s'%p, hmm)))"
   ]
  },
  {
   "cell_type": "code",
   "execution_count": 286,
   "metadata": {},
   "outputs": [],
   "source": [
    "params = read_params('test.txt')\n",
    "hmm = generate_random_HMM(params)\n",
    "print_HMM_to_file(hmm, 'generated_path.txt')\n",
    "#beautify_HMM_sequence(hmm)"
   ]
  },
  {
   "cell_type": "code",
   "execution_count": 287,
   "metadata": {},
   "outputs": [],
   "source": [
    "# input is HMM_Params and observation list (with ints inside)\n",
    "# output is hidden states in integer list\n",
    "def viterbi_solver(params, observations):\n",
    "    # matrix LxM where stored previous states for each state in row\n",
    "    parents = np.zeros((params.observation_length, params.state_num), dtype='float64')\n",
    "    # current probabilities\n",
    "    current_iter = np.log(params.beginning_distribution) + np.log(params.emission_matrix[:,observations[0]])\n",
    "    # probabilities of next step\n",
    "    next_generation = np.zeros(params.state_num,dtype='float64')\n",
    "    for i in range(1, params.observation_length):\n",
    "        for state in range(params.state_num):\n",
    "            probs = current_iter + np.log(params.transition_matrix[:,state])\n",
    "            prev = probs.argmax()\n",
    "            next_generation[state] = probs[prev] + np.log(params.emission_matrix[state, observations[i]])\n",
    "            parents[i,state] = prev\n",
    "        # avoid garbage collection\n",
    "        current_iter, next_generation = next_generation, current_iter\n",
    "    \n",
    "    path = np.ones(params.observation_length, dtype='int64')\n",
    "    path[-1] = current_iter.argmax()\n",
    "    for i in range(params.observation_length - 2, -1, -1):\n",
    "        p = parents[i+1, path[i+1]]\n",
    "        path[i] = p\n",
    "    return path"
   ]
  },
  {
   "cell_type": "code",
   "execution_count": 288,
   "metadata": {},
   "outputs": [
    {
     "name": "stdout",
     "output_type": "stream",
     "text": [
      "Accuracy: 0.690000\n"
     ]
    }
   ],
   "source": [
    "# checking viterbi\n",
    "params = read_params('test.txt')\n",
    "data = [x.strip() for x in open('generated_path.txt', 'r')]\n",
    "observations = [int(x.split()[1][1:]) for x in data]\n",
    "actual_states = [int(x.split()[0][1:]) for x in data]\n",
    "most_probable = viterbi_solver(params, observations)\n",
    "with open('viterbi.txt', 'w') as f:\n",
    "    f.write(\"RPath\\tObserv\\tViterbi\\n\")\n",
    "    p = map(lambda x: '%s\\tp%d'%x, zip(data, most_probable))\n",
    "    p = list(p)\n",
    "    f.write('\\n'.join(p))\n",
    "same_indices = [i for i in range(len(data)) if actual_states[i]==most_probable[i]]\n",
    "print(\"Accuracy: %f\"%(len(same_indices)/len(data)))"
   ]
  },
  {
   "cell_type": "code",
   "execution_count": 289,
   "metadata": {},
   "outputs": [],
   "source": [
    "from scipy.special import logsumexp\n",
    "\n",
    "# returns 3 elems: \n",
    "#  terminating probability, \n",
    "#  list of logs of probability of subsequence from start to index\n",
    "#  and the matrix for posterior\n",
    "def forward_algorithm(params, observations):\n",
    "    observe_len = len(observations)\n",
    "    prob_matrix = np.zeros((observe_len+1, params.state_num), dtype='float64')\n",
    "    prob_matrix[-1,:] = np.log(1/params.state_num) # initial state\n",
    "    for i in range(observe_len):\n",
    "        for nxt in range(params.state_num):\n",
    "            probs = np.log(params.transition_matrix[:,nxt]) + prob_matrix[i-1,:]\n",
    "            prob_matrix[i, nxt] = np.log(params.emission_matrix[nxt, observations[i]]) + logsumexp(probs)\n",
    "    res = logsumexp(prob_matrix[:observe_len,:], axis=1)\n",
    "    return np.exp(res[-1]), res, prob_matrix"
   ]
  },
  {
   "cell_type": "code",
   "execution_count": 290,
   "metadata": {},
   "outputs": [
    {
     "data": {
      "text/plain": [
       "1.7488011397641267e-60"
      ]
     },
     "execution_count": 290,
     "metadata": {},
     "output_type": "execute_result"
    }
   ],
   "source": [
    "prob, _, matr = forward_algorithm(params, observations)\n",
    "prob"
   ]
  },
  {
   "cell_type": "code",
   "execution_count": 291,
   "metadata": {},
   "outputs": [],
   "source": [
    "# returns 3 elems: \n",
    "#  terminating probability, \n",
    "#  log of terminating probability\n",
    "#  and the matrix for posterior\n",
    "def backward_algorithm(params, observations):\n",
    "    observe_len = len(observations)\n",
    "    matrix = np.zeros((observe_len, params.state_num), dtype='float64')\n",
    "    matrix[-1,:] = 1\n",
    "    for i in range(observe_len-2, -1, -1):\n",
    "        for prev in range(params.state_num):\n",
    "            probs = np.log(params.transition_matrix[prev,:])+\\\n",
    "                    np.log(params.emission_matrix[:,observations[i+1]])+\\\n",
    "                    matrix[i+1,:]\n",
    "            matrix[i, prev] = logsumexp(probs)\n",
    "    probs = np.log(params.transition_matrix[0,:])+\\\n",
    "                    np.log(params.emission_matrix[:,observations[0]])+\\\n",
    "                    matrix[0,:]\n",
    "    res = logsumexp(probs)\n",
    "    return np.exp(res), res, matrix"
   ]
  },
  {
   "cell_type": "code",
   "execution_count": 292,
   "metadata": {},
   "outputs": [
    {
     "data": {
      "text/plain": [
       "6.032879424268106e-60"
      ]
     },
     "execution_count": 292,
     "metadata": {},
     "output_type": "execute_result"
    }
   ],
   "source": [
    "backward_algorithm(params, observations)[0]"
   ]
  },
  {
   "cell_type": "code",
   "execution_count": 293,
   "metadata": {},
   "outputs": [],
   "source": [
    "# returns probabilities for each state in each iteration\n",
    "# iteration is row, state is column\n",
    "def posterior_decoding(params, observations):\n",
    "    probability, prob_log, forward_matr = forward_algorithm(params, observations)\n",
    "    backward_prob, back_log, backward_matr = backward_algorithm(params, observations)\n",
    "    out_probs = np.zeros((len(observations), params.state_num), dtype='float64')\n",
    "    for i in range(len(observations)):\n",
    "        out_probs[i, :] = forward_matr[i, :] + backward_matr[i,:] - prob_log[i]\n",
    "    out_probs = np.exp(out_probs)\n",
    "    # even if it not described in lecture, I suppose that probabilities need to be normalized for use\n",
    "    for i in range(len(observations)):\n",
    "        out_probs[i,:] /= np.sum(out_probs[i,:])\n",
    "    return out_probs"
   ]
  },
  {
   "cell_type": "code",
   "execution_count": 294,
   "metadata": {},
   "outputs": [
    {
     "data": {
      "text/plain": [
       "array([[0.83635269, 0.16364731],\n",
       "       [0.81246237, 0.18753763],\n",
       "       [0.48910874, 0.51089126],\n",
       "       [0.6943359 , 0.3056641 ],\n",
       "       [0.42714803, 0.57285197],\n",
       "       [0.62542565, 0.37457435],\n",
       "       [0.25039512, 0.74960488],\n",
       "       [0.16078353, 0.83921647],\n",
       "       [0.16159229, 0.83840771],\n",
       "       [0.25458132, 0.74541868]])"
      ]
     },
     "execution_count": 294,
     "metadata": {},
     "output_type": "execute_result"
    }
   ],
   "source": [
    "posterior_decoding(params, np.array(observations))[:10]"
   ]
  },
  {
   "cell_type": "markdown",
   "metadata": {},
   "source": [
    "# Unfair casino"
   ]
  },
  {
   "cell_type": "code",
   "execution_count": 300,
   "metadata": {},
   "outputs": [],
   "source": [
    "from matplotlib import pyplot as plt\n",
    "\n",
    "casino_params = read_params('casino_in.txt')\n",
    "casino_hmm = generate_random_HMM(casino_params)\n",
    "print_HMM_to_file(casino_hmm, 'generated_casino_path.txt')\n",
    "hidden_states = np.array([x[0] for x in casino_hmm], dtype=int)\n",
    "casino_observes = np.array([x[1] for x in casino_hmm], dtype=int)"
   ]
  },
  {
   "cell_type": "markdown",
   "metadata": {},
   "source": [
    "### viterbi"
   ]
  },
  {
   "cell_type": "code",
   "execution_count": 301,
   "metadata": {},
   "outputs": [
    {
     "name": "stdout",
     "output_type": "stream",
     "text": [
      "Accuracy: 0.845000\n"
     ]
    },
    {
     "name": "stderr",
     "output_type": "stream",
     "text": [
      "D:\\Anaconda3\\lib\\site-packages\\ipykernel_launcher.py:7: RuntimeWarning: divide by zero encountered in log\n",
      "  import sys\n"
     ]
    },
    {
     "data": {
      "text/plain": [
       "[<matplotlib.lines.Line2D at 0x2aac9db5320>]"
      ]
     },
     "execution_count": 301,
     "metadata": {},
     "output_type": "execute_result"
    },
    {
     "data": {
      "image/png": "[encoded data removed]",
      "text/plain": [
       "<Figure size 432x288 with 1 Axes>"
      ]
     },
     "metadata": {},
     "output_type": "display_data"
    }
   ],
   "source": [
    "\n",
    "most_probable = viterbi_solver(casino_params, casino_observes)\n",
    "with open('casino_viterbi.txt', 'w') as f:\n",
    "    f.write(\"Hidden\\tObserved\\tViterbi\\n\")\n",
    "    p = map(lambda x: 'p%d\\te%d\\tp%d'%x, map(lambda x:(x[0][0], x[0][1], x[1]),zip(casino_hmm, most_probable)))\n",
    "    p = list(p)\n",
    "    f.write('\\n'.join(p))\n",
    "same_indices = [i for i in range(len(casino_hmm)) if hidden_states[i]==most_probable[i]]\n",
    "print(\"Accuracy: %f\"%(len(same_indices)/len(casino_hmm)))\n",
    "# plot difference between actual and estimate\n",
    "# if upper zero, real is loaded dice, estimate is fair\n",
    "# if lower zero, real is fair, estimate is loaded\n",
    "# if same, there is correct estimate\n",
    "plt.plot(np.arange(len(casino_hmm)), hidden_states-most_probable)"
   ]
  },
  {
   "cell_type": "markdown",
   "metadata": {},
   "source": [
    "### posterior"
   ]
  },
  {
   "cell_type": "markdown",
   "metadata": {},
   "source": [
    "Plot of hidden values is reflected on Ox to better visualization.<br>"
   ]
  },
  {
   "cell_type": "code",
   "execution_count": 302,
   "metadata": {},
   "outputs": [
    {
     "name": "stdout",
     "output_type": "stream",
     "text": [
      "Accuracy: 0.830000\n"
     ]
    },
    {
     "data": {
      "text/plain": [
       "[<matplotlib.lines.Line2D at 0x2aac9dd1f98>]"
      ]
     },
     "execution_count": 302,
     "metadata": {},
     "output_type": "execute_result"
    },
    {
     "data": {
      "image/png": "[encoded data removed]",
      "text/plain": [
       "<Figure size 432x288 with 1 Axes>"
      ]
     },
     "metadata": {},
     "output_type": "display_data"
    }
   ],
   "source": [
    "probabilities = posterior_decoding(casino_params, np.array(casino_observes))\n",
    "# calculation of accuracy\n",
    "estimate = [probabilities[i].argmax() for i in range(len(casino_observes))]\n",
    "same_indices = [i for i in range(len(casino_hmm)) if hidden_states[i]==estimate[i]]\n",
    "print(\"Accuracy: %f\"%(len(same_indices)/len(casino_hmm)))\n",
    "\n",
    "# calculation of plot\n",
    "plt.plot(np.arange(len(casino_hmm)), -hidden_states+1)\n",
    "plt.plot(np.arange(len(casino_hmm)), probabilities[:,0])"
   ]
  },
  {
   "cell_type": "code",
   "execution_count": null,
   "metadata": {},
   "outputs": [],
   "source": []
  }
 ],
 "metadata": {
  "kernelspec": {
   "display_name": "Python 3",
   "language": "python",
   "name": "python3"
  },
  "language_info": {
   "codemirror_mode": {
    "name": "ipython",
    "version": 3
   },
   "file_extension": ".py",
   "mimetype": "text/x-python",
   "name": "python",
   "nbconvert_exporter": "python",
   "pygments_lexer": "ipython3",
   "version": "3.6.5"
  }
 },
 "nbformat": 4,
 "nbformat_minor": 2
}
